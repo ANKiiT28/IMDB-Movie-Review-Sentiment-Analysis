{
 "cells": [
  {
   "cell_type": "code",
   "execution_count": null,
   "id": "f08e0930",
   "metadata": {},
   "outputs": [],
   "source": [
    "# Step 1 : import Libraries and Load the model\n",
    "import numpy as np\n",
    "import tensorflow as tf\n",
    "from tensorflow.keras.datasets import imdb\n",
    "from tensorflow.keras.preprocessing import sequence\n",
    "from tensorflow.keras.models import load_model"
   ]
  },
  {
   "cell_type": "code",
   "execution_count": null,
   "id": "769ea1d6",
   "metadata": {},
   "outputs": [],
   "source": [
    "# Load hte IMDB dataset word index\n",
    "word_index = imdb.get_word_index()\n",
    "reversed_word_index = {value: key for (key, value) in word_index.items()}"
   ]
  },
  {
   "cell_type": "code",
   "execution_count": null,
   "id": "b49bc1a8",
   "metadata": {},
   "outputs": [],
   "source": [
    "# Load the pre-trained model with ReLu activation function\n",
    "model = load_model('simplernn_imdb.h5')\n",
    "model.summary()"
   ]
  },
  {
   "cell_type": "code",
   "execution_count": null,
   "id": "fd09f0b6",
   "metadata": {},
   "outputs": [],
   "source": [
    "# Step 2 : Helper functions for prediction\n",
    "def decode_review(encoded_review):\n",
    "    return ' '.join([reversed_word_index.get(i - 3, '?') for i in encoded_review]) \n",
    "\n",
    "\n",
    "# Function to preprocess user input \n",
    "def preprocess_text(text):\n",
    "    words = text.lower().split()\n",
    "    encoded_review = [word_index.get(word, 2) + 3 for word in words]  # 2 is for unknown words\n",
    "    padded_review = sequence.pad_sequences([encoded_review], maxlen=500)\n",
    "    return padded_review"
   ]
  },
  {
   "cell_type": "code",
   "execution_count": null,
   "id": "d3544a9c",
   "metadata": {},
   "outputs": [],
   "source": [
    "\n",
    "### prediction function\n",
    "def predict_sentiment(review):\n",
    "    preprocessed_input = preprocess_text(review)\n",
    "    \n",
    "    prediction = model.predict(preprocessed_input)\n",
    "    sentiment = \"Positive\" if prediction[0][0] > 0.5 else \"Negative\"\n",
    "    return sentiment, prediction[0][0]"
   ]
  },
  {
   "cell_type": "code",
   "execution_count": null,
   "id": "1f33a340",
   "metadata": {},
   "outputs": [],
   "source": [
    "# Step 4 : User Input and Prediction\n",
    "# Example review for testing\n",
    "example_review = \"The movie was fantastic! I really loved it and would watch it again.\"\n",
    "sentiment,score = predict_sentiment(example_review)\n",
    "\n",
    "print(f'Review: {example_review}')\n",
    "print(f'Sentiment: {sentiment}')\n",
    "print(f'Prediction Score: {score}')"
   ]
  },
  {
   "cell_type": "code",
   "execution_count": null,
   "id": "5871f7e6",
   "metadata": {},
   "outputs": [],
   "source": []
  }
 ],
 "metadata": {
  "kernelspec": {
   "display_name": "Python 3",
   "language": "python",
   "name": "python3"
  },
  "language_info": {
   "codemirror_mode": {
    "name": "ipython",
    "version": 3
   },
   "file_extension": ".py",
   "mimetype": "text/x-python",
   "name": "python",
   "nbconvert_exporter": "python",
   "pygments_lexer": "ipython3",
   "version": "3.11.0"
  }
 },
 "nbformat": 4,
 "nbformat_minor": 5
}
